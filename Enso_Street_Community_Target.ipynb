{
    "cells": [
        {
            "cell_type": "markdown",
            "metadata": {
                "collapsed": true
            },
            "source": "## Project Background:"
        },
        {
            "cell_type": "markdown",
            "metadata": {},
            "source": "Chicago-based startup firm - Enso Street is developing a local sharing platform that focuses on family tools and equipment. The firm is planning to launch the beta version of the platform in March 2020. It is of paramount importance for the firm to select the three most suitable communities in Chicago to roll out its service. The success in this effort would help the startup to find product-market fit and gain meaningful operating metrics before their next funding event.  The founding team engaged us to carry out the research and analytics to identify the three target communities in Chicago."
        },
        {
            "cell_type": "markdown",
            "metadata": {},
            "source": "## Data Required:"
        },
        {
            "cell_type": "markdown",
            "metadata": {},
            "source": "Demographics data: The firm\u2019s marketing personas are home improvement/maintenance DIYers and budget-conscious millennials. In this light, we will need to understand the demographics of each community in Chicago.\n\nGeographic data: The firm will compete, to some extent, with stores (i.e., Home Depot, ACE Hardware) that provide tools and equipment rental services. Relevant geographic data provided by Foursquare can help us to identify the communities that have a relatively low density of such stores. We can also gain other insights about the communities based on the venue numbers and types. For instance, a community with a high density of elementary schools, parks, and coffee shops typically would have a relatively large number of young families. One of the marketing personas is millennials that recently started their families."
        },
        {
            "cell_type": "code",
            "execution_count": null,
            "metadata": {},
            "outputs": [],
            "source": ""
        }
    ],
    "metadata": {
        "kernelspec": {
            "display_name": "Python 3.6",
            "language": "python",
            "name": "python3"
        },
        "language_info": {
            "codemirror_mode": {
                "name": "ipython",
                "version": 3
            },
            "file_extension": ".py",
            "mimetype": "text/x-python",
            "name": "python",
            "nbconvert_exporter": "python",
            "pygments_lexer": "ipython3",
            "version": "3.6.9"
        }
    },
    "nbformat": 4,
    "nbformat_minor": 1
}